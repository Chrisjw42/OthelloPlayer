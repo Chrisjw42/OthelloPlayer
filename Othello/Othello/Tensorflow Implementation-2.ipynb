{
 "cells": [
  {
   "cell_type": "code",
   "execution_count": 1,
   "metadata": {
    "collapsed": false
   },
   "outputs": [],
   "source": [
    "import tensorflow as tf\n",
    "import numpy as np\n",
    "import dbGeneration as db\n",
    "import random"
   ]
  },
  {
   "cell_type": "markdown",
   "metadata": {},
   "source": [
    "# Data Pre-Processing"
   ]
  },
  {
   "cell_type": "code",
   "execution_count": 2,
   "metadata": {
    "collapsed": false
   },
   "outputs": [
    {
     "name": "stdout",
     "output_type": "stream",
     "text": [
      "Returned data points in 81 batches\n"
     ]
    }
   ],
   "source": [
    "tensorInputs, raw_labels = db.get_tensorinputs_and_labels()\n",
    "tensorInputs = np.asarray(tensorInputs)\n"
   ]
  },
  {
   "cell_type": "code",
   "execution_count": 3,
   "metadata": {
    "collapsed": false
   },
   "outputs": [
    {
     "name": "stdout",
     "output_type": "stream",
     "text": [
      "225447 training samples\n"
     ]
    }
   ],
   "source": [
    "n = 0\n",
    "\n",
    "\n",
    "for i in tensorInputs:\n",
    "    n += len(i)\n",
    "    \n",
    "print(n, \"training samples\")"
   ]
  },
  {
   "cell_type": "code",
   "execution_count": 4,
   "metadata": {
    "collapsed": false
   },
   "outputs": [
    {
     "name": "stdout",
     "output_type": "stream",
     "text": [
      "81\n"
     ]
    }
   ],
   "source": [
    "print(len(raw_labels))"
   ]
  },
  {
   "cell_type": "code",
   "execution_count": 5,
   "metadata": {
    "collapsed": false
   },
   "outputs": [
    {
     "name": "stdout",
     "output_type": "stream",
     "text": [
      "[81]\n",
      "225447\n",
      "225447\n",
      "[[ 2.  2.  2.  2.  2.  2.  2.  2.  2.  2.]\n",
      " [ 2.  0.  0.  0.  0.  0.  0.  0.  0.  2.]\n",
      " [ 2.  0.  0.  0.  0.  0.  0.  0.  0.  2.]\n",
      " [ 2.  0.  0. -1.  1.  0.  1.  0.  0.  2.]\n",
      " [ 2.  0.  0. -1. -1.  1. -1.  0.  0.  2.]\n",
      " [ 2.  0.  0. -1. -1. -1. -1.  0.  0.  2.]\n",
      " [ 2.  0.  0.  0.  1.  1.  1.  1.  0.  2.]\n",
      " [ 2.  0.  0.  0.  0.  0.  0.  0.  0.  2.]\n",
      " [ 2.  0.  0.  0.  0.  0.  0.  0.  0.  2.]\n",
      " [ 2.  2.  2.  2.  2.  2.  2.  2.  2.  2.]]\n",
      "-1\n"
     ]
    }
   ],
   "source": [
    "print(np.asarray(tensorInputs.shape))\n",
    "\n",
    "tensorInputs2 = []\n",
    "raw_labels2 = []\n",
    "\n",
    "for i in tensorInputs:\n",
    "    for j in i:\n",
    "        tensorInputs2.append(j)\n",
    "\n",
    "for i in raw_labels:\n",
    "    for j in i:\n",
    "        raw_labels2.append(j)\n",
    "\n",
    "print(len(tensorInputs2))\n",
    "print(len(raw_labels2))\n",
    "\n",
    "print(tensorInputs2[0])\n",
    "print(raw_labels2[0])"
   ]
  },
  {
   "cell_type": "code",
   "execution_count": 6,
   "metadata": {
    "collapsed": false
   },
   "outputs": [],
   "source": [
    "raw_labels = raw_labels2\n",
    "tensorInputs = tensorInputs2\n",
    "del(raw_labels2)\n",
    "del(tensorInputs2)"
   ]
  },
  {
   "cell_type": "code",
   "execution_count": 7,
   "metadata": {
    "collapsed": false
   },
   "outputs": [
    {
     "name": "stdout",
     "output_type": "stream",
     "text": [
      "[-1, -1, 1, 1, 1, 1, 1, 1, 1, -1]\n"
     ]
    }
   ],
   "source": [
    "print(raw_labels[:10])"
   ]
  },
  {
   "cell_type": "markdown",
   "metadata": {},
   "source": [
    "### Convert labels to one-hot vector"
   ]
  },
  {
   "cell_type": "code",
   "execution_count": 8,
   "metadata": {
    "collapsed": false
   },
   "outputs": [],
   "source": [
    "pre_labels = []\n",
    "for i in raw_labels:\n",
    "    if i == -1:\n",
    "        pre_labels.append([1,0])\n",
    "    else:\n",
    "        pre_labels.append([0,1])\n",
    "\n",
    "pre_labels = np.asarray(pre_labels)"
   ]
  },
  {
   "cell_type": "code",
   "execution_count": 9,
   "metadata": {
    "collapsed": false,
    "scrolled": true
   },
   "outputs": [
    {
     "name": "stdout",
     "output_type": "stream",
     "text": [
      "(225447, 2)\n",
      "[[1 0]\n",
      " [1 0]\n",
      " [0 1]\n",
      " ..., \n",
      " [0 1]\n",
      " [1 0]\n",
      " [1 0]]\n"
     ]
    }
   ],
   "source": [
    "print(pre_labels.shape)\n",
    "print(pre_labels)"
   ]
  },
  {
   "cell_type": "markdown",
   "metadata": {},
   "source": [
    "### Define training and testing data"
   ]
  },
  {
   "cell_type": "code",
   "execution_count": 10,
   "metadata": {
    "collapsed": false
   },
   "outputs": [
    {
     "name": "stdout",
     "output_type": "stream",
     "text": [
      "225447\n"
     ]
    }
   ],
   "source": [
    "print(len(tensorInputs))"
   ]
  },
  {
   "cell_type": "code",
   "execution_count": 11,
   "metadata": {
    "collapsed": true
   },
   "outputs": [],
   "source": [
    "BATCH_SIZE = 64\n",
    "N_SAMPLES = len(tensorInputs)\n",
    "N_TRAIN = 220000\n",
    "N_VALIDATION = int((N_SAMPLES - N_TRAIN)/2)\n",
    "N_BATCHES = int(N_TRAIN/BATCH_SIZE)"
   ]
  },
  {
   "cell_type": "code",
   "execution_count": 12,
   "metadata": {
    "collapsed": false
   },
   "outputs": [
    {
     "name": "stdout",
     "output_type": "stream",
     "text": [
      "3437\n"
     ]
    }
   ],
   "source": [
    "print(N_BATCHES)"
   ]
  },
  {
   "cell_type": "markdown",
   "metadata": {},
   "source": [
    "## Shuffle data to avoid grouping among games"
   ]
  },
  {
   "cell_type": "code",
   "execution_count": 13,
   "metadata": {
    "collapsed": false
   },
   "outputs": [],
   "source": [
    "def get_randomised_batches(training_data, training_labels):\n",
    "    pairs = []\n",
    "    for i in range(len(training_data)):\n",
    "        pairs.append([training_data[i], training_labels[i]])\n",
    "        \n",
    "    random.shuffle(pairs)\n",
    "    x = []\n",
    "    y = []\n",
    "\n",
    "    for i in pairs:\n",
    "        x.append(np.reshape(i[0], (100)))\n",
    "        y.append(i[1])\n",
    "        \n",
    "    return x, y"
   ]
  },
  {
   "cell_type": "code",
   "execution_count": 14,
   "metadata": {
    "collapsed": false
   },
   "outputs": [],
   "source": [
    "train_gameboards = tensorInputs[:N_TRAIN]\n",
    "validation_gameboards = tensorInputs[N_TRAIN:N_TRAIN+N_VALIDATION]\n",
    "test_gameboards = tensorInputs[N_TRAIN+N_VALIDATION:]\n",
    "\n",
    "train_labels = pre_labels[:N_TRAIN]\n",
    "validation_labels = pre_labels[N_TRAIN:N_TRAIN+N_VALIDATION]\n",
    "test_labels = pre_labels[N_TRAIN+N_VALIDATION:]"
   ]
  },
  {
   "cell_type": "code",
   "execution_count": 15,
   "metadata": {
    "collapsed": false
   },
   "outputs": [
    {
     "name": "stdout",
     "output_type": "stream",
     "text": [
      "220000\n",
      "2723\n",
      "2724\n"
     ]
    }
   ],
   "source": [
    "print(len(train_gameboards))\n",
    "print(len(validation_gameboards))\n",
    "print(len(test_gameboards))"
   ]
  },
  {
   "cell_type": "code",
   "execution_count": 16,
   "metadata": {
    "collapsed": false
   },
   "outputs": [
    {
     "name": "stdout",
     "output_type": "stream",
     "text": [
      "[[ 2.  2.  2.  2.  2.  2.  2.  2.  2.  2.]\n",
      " [ 2.  0.  0.  0.  0.  0.  0.  0.  0.  2.]\n",
      " [ 2.  0.  0.  0.  0.  0.  0.  0.  0.  2.]\n",
      " [ 2.  0.  0.  0.  1.  1.  1.  0.  0.  2.]\n",
      " [ 2.  0.  0. -1.  1.  1. -1. -1.  0.  2.]\n",
      " [ 2.  0.  0. -1.  1. -1.  1. -1.  0.  2.]\n",
      " [ 2.  0.  0. -1.  1.  1.  1.  1.  0.  2.]\n",
      " [ 2.  0.  0.  0. -1. -1.  0.  0.  0.  2.]\n",
      " [ 2.  0.  0.  0.  0. -1.  0.  0.  0.  2.]\n",
      " [ 2.  2.  2.  2.  2.  2.  2.  2.  2.  2.]] [1 0]\n"
     ]
    }
   ],
   "source": [
    "print(test_gameboards[0], test_labels[0])"
   ]
  },
  {
   "cell_type": "markdown",
   "metadata": {},
   "source": [
    "# Model Definition"
   ]
  },
  {
   "cell_type": "code",
   "execution_count": 17,
   "metadata": {
    "collapsed": false
   },
   "outputs": [],
   "source": [
    "gameboards = tf.placeholder(tf.float32, (None, 100), name=\"gameBoards\")\n",
    "\n",
    "gameboards2d = tf.reshape(gameboards, (-1, 10, 10, 1), name=\"gameBoards2d\")\n",
    "\n"
   ]
  },
  {
   "cell_type": "code",
   "execution_count": 18,
   "metadata": {
    "collapsed": false,
    "scrolled": true
   },
   "outputs": [],
   "source": [
    "# First Convulutional layer, small 2x2 filter\n",
    "conv1 = tf.layers.conv2d(gameboards2d, 64, 2, padding=\"same\", name=\"Conv1\", activation=tf.nn.relu)\n",
    "pool1 = tf.layers.max_pooling2d(conv1, 2, 2, name=\"Pool1\")\n",
    "conv2 = tf.layers.conv2d(pool1, 128, 3, padding=\"same\", name=\"Conv2\", activation=tf.nn.relu)\n",
    "pool2 = tf.layers.max_pooling2d(conv2, 2, 2, name=\"Pool2\")\n",
    "\n",
    "conv3 = tf.layers.conv2d(pool2, 128, 4, padding=\"same\", name=\"Conv3\", activation=tf.nn.relu)\n",
    "pool3 = tf.layers.max_pooling2d(conv3, 2, 2, name=\"Pool3\")\n",
    "\n",
    "# Reshape the 2D tensor back to 1D to be fed into \"Dense\"\n",
    "# Flatten out the pooling - GET THIS NUMBER FROM POOLx.SHAPE\n",
    "pool2_flat = tf.reshape(pool3, (-1, int(1*1*128)), name=\"Pool2_Flat\")\n",
    "\n",
    "\n",
    "# The dropout allows us to train a subset of the neurons at any given iteration.  \n",
    "keep_prob = tf.placeholder(tf.float32, name=\"Keep_Probability\")\n",
    "\n",
    "\n",
    "# A dense layer with dropout\n",
    "# DENSE - a fully connected linear transofmration of every dimension of the data\n",
    "dense = tf.layers.dense(pool2_flat, int(128), activation=tf.nn.relu, name=\"Dense\")\n",
    "\n",
    "# DROPOUT - if set to 0.5, rendomly select 50% of the neurons to ignore (different with each computation)\n",
    "dropout = tf.nn.dropout(dense, keep_prob, name=\"Dropout\")\n",
    "\n",
    "dense2 = tf.layers.dense(dropout, int(128), activation=tf.nn.relu, name=\"Dense2\")\n",
    "dropout2 = tf.nn.dropout(dense2, keep_prob, name=\"Dropout2\")\n",
    "\n",
    "\"\"\"dense3 = tf.layers.dense(dropout, int(128), activation=tf.nn.relu, name=\"Dense3\")\n",
    "dropout3 = tf.nn.dropout(dense3, keep_prob, name=\"Dropout3\")\"\"\"\n",
    "\n",
    "# A dense layer to classify the final values. Only 2 neurons. \n",
    "predictions = tf.layers.dense(dropout2, 2, activation=None, name=\"Predictions\")"
   ]
  },
  {
   "cell_type": "code",
   "execution_count": 19,
   "metadata": {
    "collapsed": false
   },
   "outputs": [
    {
     "data": {
      "text/plain": [
       "TensorShape([Dimension(None), Dimension(1), Dimension(1), Dimension(128)])"
      ]
     },
     "execution_count": 19,
     "metadata": {},
     "output_type": "execute_result"
    }
   ],
   "source": [
    "pool3.shape"
   ]
  },
  {
   "cell_type": "code",
   "execution_count": 20,
   "metadata": {
    "collapsed": true
   },
   "outputs": [],
   "source": [
    "# None, as in, this is not yet defined, there could be any number of them input. \n",
    "# 2, as in, there are two elements in the one-hot vector\n",
    "\n",
    "labels = tf.placeholder(tf.int32, [None, 2], name=\"labels\")"
   ]
  },
  {
   "cell_type": "code",
   "execution_count": 21,
   "metadata": {
    "collapsed": true
   },
   "outputs": [],
   "source": [
    "# This loss is the elementwise loss\n",
    "#loss = tf.nn.softmax_cross_entropy_with_logits(labels=labels, logits=logits)\n",
    "\n",
    "with tf.name_scope(\"Loss\"):\n",
    "    loss = tf.reduce_mean(\n",
    "        tf.nn.softmax_cross_entropy_with_logits(labels=labels, logits=predictions))\n",
    "\n",
    "\"\"\"with tf.name_scope(\"Loss\"):\n",
    "    loss = tf.losses.mean_squared_error(labels=labels, predictions=predictions)\"\"\"\n",
    "\n",
    "with tf.name_scope(\"Optimizer\"):\n",
    "    train = tf.train.AdamOptimizer(learning_rate=0.001, name=\"Adam\").minimize(loss)"
   ]
  },
  {
   "cell_type": "code",
   "execution_count": 22,
   "metadata": {
    "collapsed": false
   },
   "outputs": [],
   "source": [
    "with tf.name_scope(\"Error\"):\n",
    "    error = tf.reduce_mean(\n",
    "        tf.cast(tf.not_equal(tf.argmax(labels, 1), tf.argmax(predictions, 1)), tf.float32), name=\"Mean\")"
   ]
  },
  {
   "cell_type": "markdown",
   "metadata": {},
   "source": [
    "## Define an error rate to evaluate model performance\n"
   ]
  },
  {
   "cell_type": "code",
   "execution_count": 23,
   "metadata": {
    "collapsed": false
   },
   "outputs": [
    {
     "data": {
      "text/plain": [
       "<tf.Tensor 'Error_1:0' shape=() dtype=string>"
      ]
     },
     "execution_count": 23,
     "metadata": {},
     "output_type": "execute_result"
    }
   ],
   "source": [
    "tf.summary.scalar(\"Loss\", loss)\n",
    "tf.summary.scalar(\"Error\", error)"
   ]
  },
  {
   "cell_type": "code",
   "execution_count": 24,
   "metadata": {
    "collapsed": false
   },
   "outputs": [
    {
     "name": "stdout",
     "output_type": "stream",
     "text": [
      "3437\n"
     ]
    }
   ],
   "source": [
    "number_of_batches = int(N_TRAIN / BATCH_SIZE)\n",
    "print(number_of_batches)"
   ]
  },
  {
   "cell_type": "code",
   "execution_count": 25,
   "metadata": {
    "collapsed": true
   },
   "outputs": [],
   "source": [
    "sess = tf.Session()"
   ]
  },
  {
   "cell_type": "code",
   "execution_count": 26,
   "metadata": {
    "collapsed": false
   },
   "outputs": [],
   "source": [
    "sess.run(tf.global_variables_initializer())"
   ]
  },
  {
   "cell_type": "code",
   "execution_count": null,
   "metadata": {
    "collapsed": true
   },
   "outputs": [],
   "source": []
  },
  {
   "cell_type": "code",
   "execution_count": 27,
   "metadata": {
    "collapsed": false
   },
   "outputs": [
    {
     "name": "stdout",
     "output_type": "stream",
     "text": [
      "0, Loss: 0.6959189176559448, \tError: 51.5625%\n",
      "100, Loss: 0.6776396632194519, \tError: 42.1875%\n",
      "200, Loss: 0.7022673487663269, \tError: 51.5625%\n",
      "300, Loss: 0.6592915058135986, \tError: 39.0625%\n",
      "400, Loss: 0.6234550476074219, \tError: 39.0625%\n",
      "500, Loss: 0.6642321348190308, \tError: 51.5625%\n",
      "600, Loss: 0.6565261483192444, \tError: 37.5%\n",
      "700, Loss: 0.6397536396980286, \tError: 42.1875%\n",
      "800, Loss: 0.6840679049491882, \tError: 45.3125%\n",
      "900, Loss: 0.6022106409072876, \tError: 35.9375%\n",
      "1000, Loss: 0.637906551361084, \tError: 37.5%\n",
      "1100, Loss: 0.6105183959007263, \tError: 26.5625%\n",
      "1200, Loss: 0.6613262891769409, \tError: 43.75%\n",
      "1300, Loss: 0.6630628108978271, \tError: 40.625%\n",
      "1400, Loss: 0.6197479367256165, \tError: 32.8125%\n",
      "1500, Loss: 0.6690207719802856, \tError: 40.625%\n",
      "1600, Loss: 0.7126659750938416, \tError: 45.3125%\n",
      "1700, Loss: 0.64258873462677, \tError: 32.8125%\n",
      "1800, Loss: 0.7092994451522827, \tError: 51.5625%\n",
      "1900, Loss: 0.616108775138855, \tError: 37.5%\n",
      "2000, Loss: 0.6621047854423523, \tError: 40.625%\n",
      "2100, Loss: 0.6076531410217285, \tError: 31.25%\n",
      "2200, Loss: 0.6935348510742188, \tError: 46.875%\n",
      "2300, Loss: 0.6097992658615112, \tError: 32.8125%\n",
      "2400, Loss: 0.6597957611083984, \tError: 43.75%\n",
      "2500, Loss: 0.6991702318191528, \tError: 50.0%\n",
      "2600, Loss: 0.6001469492912292, \tError: 34.375%\n",
      "2700, Loss: 0.6500176191329956, \tError: 39.0625%\n",
      "2800, Loss: 0.5622004270553589, \tError: 28.125%\n",
      "2900, Loss: 0.7128688097000122, \tError: 46.875%\n",
      "3000, Loss: 0.6285245418548584, \tError: 37.5%\n",
      "3100, Loss: 0.7053931951522827, \tError: 40.625%\n",
      "3200, Loss: 0.6434986591339111, \tError: 39.0625%\n",
      "3300, Loss: 0.6821167469024658, \tError: 43.75%\n",
      "3400, Loss: 0.6361777782440186, \tError: 42.1875%\n"
     ]
    }
   ],
   "source": [
    "for epoch in range(1):\n",
    "    #randomise the data\n",
    "    gb, lbl  = get_randomised_batches(train_gameboards, train_labels)\n",
    "    \n",
    "    for i in range(N_BATCHES):\n",
    "        first_index = i*BATCH_SIZE\n",
    "        second_index = (i*BATCH_SIZE) + BATCH_SIZE\n",
    "        batch = gb[first_index:second_index]\n",
    "        batchLabels = lbl[first_index:second_index]\n",
    "\n",
    "        #print(np.asarray(batch).shape)\n",
    "\n",
    "        if i % 100 == 0:\n",
    "            Error, Loss = sess.run([error, loss], feed_dict={gameboards:batch, labels:batchLabels, keep_prob:1.0})\n",
    "            print(\"{}, Loss: {}, \\tError: {}%\".format(i, Loss, Error*100))\n",
    "        sess.run(train, feed_dict={gameboards:batch, labels:batchLabels, keep_prob:0.5})\n"
   ]
  },
  {
   "cell_type": "code",
   "execution_count": 28,
   "metadata": {
    "collapsed": false
   },
   "outputs": [],
   "source": [
    "val = []\n",
    "\n",
    "for i in validation_gameboards:\n",
    "    val.append(np.reshape(i, (100)))"
   ]
  },
  {
   "cell_type": "code",
   "execution_count": 29,
   "metadata": {
    "collapsed": false
   },
   "outputs": [],
   "source": [
    "#test = []\n",
    "\n",
    "#for i in test_gameboards:\n",
    "    #test.append(np.reshape(i, (100)))"
   ]
  },
  {
   "cell_type": "markdown",
   "metadata": {},
   "source": []
  },
  {
   "cell_type": "code",
   "execution_count": 30,
   "metadata": {
    "collapsed": false
   },
   "outputs": [
    {
     "name": "stdout",
     "output_type": "stream",
     "text": [
      "0.403966\n"
     ]
    }
   ],
   "source": [
    "Error = sess.run(error, feed_dict={gameboards:val, labels:validation_labels, keep_prob:1.0})\n",
    "print(Error)"
   ]
  },
  {
   "cell_type": "code",
   "execution_count": 31,
   "metadata": {
    "collapsed": false
   },
   "outputs": [],
   "source": [
    "#Error = sess.run(error, feed_dict={gameboards:test, labels:test_labels, keep_prob:1.0})\n",
    "#print(Error)"
   ]
  },
  {
   "cell_type": "code",
   "execution_count": 32,
   "metadata": {
    "collapsed": false
   },
   "outputs": [
    {
     "data": {
      "text/plain": [
       "'nn_model\\\\'"
      ]
     },
     "execution_count": 32,
     "metadata": {},
     "output_type": "execute_result"
    }
   ],
   "source": [
    "saver = tf.train.Saver()\n",
    "saver.save(sess, \"nn_model\\\\\")"
   ]
  },
  {
   "cell_type": "code",
   "execution_count": 48,
   "metadata": {
    "collapsed": false
   },
   "outputs": [
    {
     "name": "stdout",
     "output_type": "stream",
     "text": [
      "[[ 0.16845234 -0.1164927 ]] [1 0]\n",
      "[[ 0.0939784  -0.05144904]] [1 0]\n",
      "[[ 0.24084786 -0.14548191]] [1 0]\n",
      "[[ 0.68123651 -0.33546242]] [1 0]\n",
      "[[ 0.13589826 -0.10234954]] [0 1]\n",
      "[[ 0.10060694 -0.03405943]] [0 1]\n",
      "[[-0.03575656  0.21318907]] [0 1]\n",
      "[[-0.05135381  0.22725052]] [1 0]\n",
      "[[ 0.06522098 -0.03346411]] [1 0]\n",
      "[[ 0.66462612 -0.28097069]] [1 0]\n",
      "[[ 0.03202344  0.02583835]] [0 1]\n",
      "[[-0.04063651  0.19388989]] [0 1]\n",
      "[[-0.35128403  0.80436122]] [0 1]\n",
      "[[-0.32565069  0.80916274]] [0 1]\n",
      "[[ 0.08136741 -0.05525216]] [1 0]\n",
      "[[ 4.92718554 -2.24777603]] [1 0]\n",
      "[[ 0.11098722 -0.08823634]] [1 0]\n",
      "[[ 0.12697744 -0.11159419]] [1 0]\n",
      "[[ 0.21536201 -0.13632891]] [1 0]\n",
      "[[ 0.20691366 -0.13188654]] [1 0]\n",
      "[[ 0.05483514 -0.01432633]] [0 1]\n",
      "[[ 0.03993898 -0.01252807]] [0 1]\n",
      "[[ 0.15263148 -0.11417112]] [0 1]\n",
      "[[ 0.34420252 -0.17891502]] [0 1]\n",
      "[[ 0.10886383 -0.08881157]] [0 1]\n",
      "[[ 0.48385161 -0.21890791]] [0 1]\n",
      "[[ 0.13496089 -0.10158335]] [1 0]\n",
      "[[ 0.12445832 -0.10056013]] [1 0]\n",
      "[[ 0.18941447 -0.12931795]] [1 0]\n",
      "[[ 0.23126787 -0.14426622]] [1 0]\n",
      "[[ 0.35671753 -0.18173951]] [1 0]\n",
      "[[ 1.15689206 -0.44856125]] [1 0]\n",
      "[[ 0.09414411 -0.07036728]] [1 0]\n",
      "[[ 0.0380412   0.05218452]] [1 0]\n",
      "[[ 0.06345592 -0.04144741]] [0 1]\n",
      "[[ 0.45295674 -0.21727341]] [0 1]\n",
      "[[ 0.48809671 -0.2332167 ]] [0 1]\n",
      "[[ 0.43180227 -0.21780461]] [0 1]\n",
      "[[ 0.07808822 -0.05266387]] [0 1]\n",
      "[[ 0.05267189 -0.00343807]] [0 1]\n",
      "[[-0.15507524  0.35922128]] [0 1]\n",
      "[[ 0.18282638 -0.12749831]] [0 1]\n",
      "[[ 0.23151183 -0.165059  ]] [0 1]\n",
      "[[ 0.0848766 -0.0581027]] [1 0]\n",
      "[[ 1.17413628 -0.53621131]] [1 0]\n",
      "[[ 0.26314783 -0.15539663]] [0 1]\n",
      "[[ 0.45831841 -0.21958557]] [0 1]\n",
      "[[ 0.26396775 -0.16280127]] [1 0]\n",
      "[[ 0.42250431 -0.21793166]] [1 0]\n",
      "[[-0.00925045  0.11286364]] [1 0]\n",
      "[[ 0.1786935  -0.12847641]] [1 0]\n",
      "[[ 0.07209358 -0.03932295]] [1 0]\n",
      "[[ 0.79268771 -0.42611003]] [1 0]\n",
      "[[ 0.11661653 -0.0900255 ]] [1 0]\n",
      "[[ 0.29404449 -0.16480911]] [1 0]\n",
      "[[ 0.1151198  -0.08346485]] [1 0]\n",
      "[[ 0.09501811 -0.05919706]] [1 0]\n",
      "[[ 0.08833398 -0.04519885]] [1 0]\n",
      "[[ 0.07804792 -0.05695611]] [1 0]\n",
      "[[ 0.02213459  0.09012412]] [1 0]\n",
      "[[ 0.0710777  -0.04404585]] [0 1]\n",
      "[[ 0.15056357 -0.11246131]] [0 1]\n",
      "[[ 0.04717612 -0.00172595]] [1 0]\n",
      "[[ 1.81212568 -0.74465513]] [1 0]\n",
      "[[ 0.04312349  0.05013952]] [0 1]\n",
      "[[ 0.14997858 -0.11076701]] [0 1]\n",
      "[[ 0.14633487 -0.11479962]] [1 0]\n",
      "[[ 0.02662966  0.09379597]] [1 0]\n",
      "[[ 0.45181012 -0.22324251]] [1 0]\n",
      "[[ 0.27953571 -0.16759911]] [1 0]\n",
      "[[ 0.18457337 -0.12733275]] [0 1]\n",
      "[[ 0.21924841 -0.13594012]] [0 1]\n",
      "[[ 0.04641259  0.07087617]] [0 1]\n",
      "[[ 0.01153505  0.16024807]] [0 1]\n",
      "[[ 0.13496089 -0.10158335]] [1 0]\n",
      "[[ 0.0423352   0.07702047]] [1 0]\n",
      "[[ 0.14416789 -0.10585115]] [0 1]\n",
      "[[ 0.17288807 -0.12915085]] [1 0]\n",
      "[[ 0.09962167 -0.06469348]] [1 0]\n",
      "[[ 0.19087608 -0.13054819]] [1 0]\n",
      "[[ 0.23181532 -0.14327133]] [1 0]\n",
      "[[ 0.17390008 -0.12869453]] [1 0]\n",
      "[[ 0.29557419 -0.17908299]] [1 0]\n",
      "[[ 0.01563405  0.08617938]] [0 1]\n",
      "[[-1.07121813  1.91310918]] [0 1]\n",
      "[[ 0.10161454 -0.0797232 ]] [1 0]\n",
      "[[ 0.13528219 -0.10885035]] [1 0]\n",
      "[[ 0.09464359 -0.07408204]] [1 0]\n",
      "[[ 0.16211076 -0.12177742]] [1 0]\n",
      "[[ 1.86392963 -0.82802761]] [1 0]\n",
      "[[ 2.52879047 -1.12535632]] [1 0]\n",
      "[[ 0.07765279 -0.05247987]] [0 1]\n",
      "[[ 0.62372291 -0.38167146]] [0 1]\n",
      "[[ 0.20501854 -0.13416199]] [0 1]\n",
      "[[ 0.43699372 -0.22947991]] [0 1]\n",
      "[[-0.00408086  0.16705102]] [1 0]\n",
      "[[ 0.03394207  0.08835287]] [1 0]\n",
      "[[ 0.21777877 -0.14021938]] [1 0]\n",
      "[[ 0.06303906  0.01415879]] [1 0]\n",
      "[[ 0.12826329 -0.10141756]] [1 0]\n"
     ]
    }
   ],
   "source": [
    "for i in range(100):\n",
    "    r = sess.run(predictions, feed_dict={gameboards:[val[i]], keep_prob:1.0})\n",
    "    print(r, validation_labels[i])"
   ]
  },
  {
   "cell_type": "code",
   "execution_count": 35,
   "metadata": {
    "collapsed": false
   },
   "outputs": [
    {
     "name": "stdout",
     "output_type": "stream",
     "text": [
      "[[ 0.16845234 -0.1164927 ]]\n"
     ]
    }
   ],
   "source": [
    "print(r)"
   ]
  },
  {
   "cell_type": "code",
   "execution_count": null,
   "metadata": {
    "collapsed": true
   },
   "outputs": [],
   "source": []
  }
 ],
 "metadata": {
  "kernelspec": {
   "display_name": "Python 3",
   "language": "python",
   "name": "python3"
  },
  "language_info": {
   "codemirror_mode": {
    "name": "ipython",
    "version": 3
   },
   "file_extension": ".py",
   "mimetype": "text/x-python",
   "name": "python",
   "nbconvert_exporter": "python",
   "pygments_lexer": "ipython3",
   "version": "3.5.2"
  }
 },
 "nbformat": 4,
 "nbformat_minor": 0
}
