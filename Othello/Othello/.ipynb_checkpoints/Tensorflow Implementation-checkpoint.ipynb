{
 "cells": [
  {
   "cell_type": "code",
   "execution_count": 1,
   "metadata": {
    "collapsed": false
   },
   "outputs": [],
   "source": [
    "import tensorflow as tf\n",
    "import numpy as np\n",
    "import dbGeneration as db\n",
    "import random"
   ]
  },
  {
   "cell_type": "markdown",
   "metadata": {},
   "source": [
    "# Data Pre-Processing"
   ]
  },
  {
   "cell_type": "code",
   "execution_count": 2,
   "metadata": {
    "collapsed": false
   },
   "outputs": [
    {
     "name": "stdout",
     "output_type": "stream",
     "text": [
      "Returned 15790 data points\n"
     ]
    }
   ],
   "source": [
    "tensorInputs, raw_labels = db.get_tensorinputs_and_labels()\n",
    "tensorInputs = np.asarray(tensorInputs)"
   ]
  },
  {
   "cell_type": "markdown",
   "metadata": {},
   "source": [
    "### Convert labels to one-hot vector"
   ]
  },
  {
   "cell_type": "code",
   "execution_count": 3,
   "metadata": {
    "collapsed": false
   },
   "outputs": [],
   "source": [
    "pre_labels = []\n",
    "for i in raw_labels:\n",
    "    if i == -1:\n",
    "        pre_labels.append([1,0])\n",
    "    else:\n",
    "        pre_labels.append([0,1])\n",
    "\n",
    "pre_labels = np.asarray(pre_labels)"
   ]
  },
  {
   "cell_type": "code",
   "execution_count": 4,
   "metadata": {
    "collapsed": false,
    "scrolled": true
   },
   "outputs": [
    {
     "name": "stdout",
     "output_type": "stream",
     "text": [
      "(15790, 2)\n",
      "[[1 0]\n",
      " [1 0]\n",
      " [1 0]\n",
      " ..., \n",
      " [0 1]\n",
      " [0 1]\n",
      " [0 1]]\n"
     ]
    }
   ],
   "source": [
    "print(pre_labels.shape)\n",
    "print(pre_labels)"
   ]
  },
  {
   "cell_type": "markdown",
   "metadata": {},
   "source": [
    "### Define training and testing data"
   ]
  },
  {
   "cell_type": "code",
   "execution_count": 5,
   "metadata": {
    "collapsed": true
   },
   "outputs": [],
   "source": [
    "train_gameboards = tensorInputs[0:14000]\n",
    "test_gameboards = tensorInputs[14000:15790]\n",
    "train_labels = pre_labels[0:14000]\n",
    "test_labels = pre_labels[14000:15790]"
   ]
  },
  {
   "cell_type": "code",
   "execution_count": 6,
   "metadata": {
    "collapsed": false
   },
   "outputs": [],
   "source": [
    "# Re-order the training data, so the batches are more mixed\n",
    "data = list(zip(train_gameboards, train_labels))\n",
    "random.shuffle(data)\n",
    "train_gameboards = []\n",
    "train_labels = []\n",
    "for i in data:\n",
    "    train_gameboards.append([i[0]][0])\n",
    "    train_labels.append(i[1])"
   ]
  },
  {
   "cell_type": "code",
   "execution_count": 7,
   "metadata": {
    "collapsed": false
   },
   "outputs": [
    {
     "name": "stdout",
     "output_type": "stream",
     "text": [
      "[ 0.  0.  0.  0.  0.  0.  0.  0.  0.  0.  0.  0.  0.  0.  0.  0.  0.  0.\n",
      "  0.  0.  0.  0.  0.  0.  0.  0.  0.  1. -1.  0.  0.  0.  0.  0.  0. -1.\n",
      "  1.  0.  0.  0.  0.  0.  0.  0. -1.  1.  0.  0.  0.  0.  0.  0.  0.  0.\n",
      "  0.  0.  0.  0.  0.  0.  0.  0.  0.  0.] [1 0]\n",
      "\n",
      "[ 0.  0.  0.  0.  0.  0.  0.  0.  0.  0.  0.  0.  0.  0.  0. -1.  0.  0.\n",
      "  0. -1. -1. -1.  0. -1.  0.  0. -1. -1. -1. -1.  1. -1.  0.  0.  1. -1.\n",
      " -1.  1.  1.  0.  0.  0.  1.  1.  1.  1.  1.  0.  0.  0.  0.  0.  1.  1.\n",
      "  0.  0.  0.  0.  0.  0.  0.  1.  0.  0.] [1 0]\n"
     ]
    }
   ],
   "source": [
    "print(test_gameboards[0], test_labels[0])\n",
    "print()\n",
    "print(train_gameboards[0], train_labels[0])"
   ]
  },
  {
   "cell_type": "code",
   "execution_count": null,
   "metadata": {
    "collapsed": false
   },
   "outputs": [],
   "source": []
  },
  {
   "cell_type": "markdown",
   "metadata": {},
   "source": [
    "# Model Definition"
   ]
  },
  {
   "cell_type": "code",
   "execution_count": 8,
   "metadata": {
    "collapsed": false
   },
   "outputs": [],
   "source": [
    "gameboards = tf.placeholder(tf.float32, (None, 64), name=\"gameBoards\")\n",
    "gameboards_2d = tf.reshape(gameboards, (-1, 8, 8, 1), name=\"gameBoards_2D\")\n",
    "gameboards_1d = tf.reshape(gameboards, (-1, 64, 1), name=\"gameBoards_2D\")\n"
   ]
  },
  {
   "cell_type": "code",
   "execution_count": 9,
   "metadata": {
    "collapsed": false
   },
   "outputs": [],
   "source": [
    "w = tf.Variable(tf.truncated_normal([64, 2], mean=1.0, stddev=0.5), name=\"weights\")\n",
    "b = tf.Variable(tf.ones([1,2]), name=\"bias\")"
   ]
  },
  {
   "cell_type": "code",
   "execution_count": 10,
   "metadata": {
    "collapsed": false
   },
   "outputs": [],
   "source": [
    "\n",
    "\n",
    "# Add two convolution layers with max pooling\n",
    "#conv1 = tf.layers.conv1d(gameboards_1d, 32, 5, padding=\"same\", name=\"Conv1\")\n",
    "\n",
    "## 2D\n",
    "'''\n",
    "conv1 = tf.layers.conv2d(gameboards_2d, 64, 5, padding=\"same\", name=\"Conv1\")\n",
    "pool1 = tf.layers.max_pooling2d(conv1, 2, 2, name=\"Pool1\")\n",
    "conv2 = tf.layers.conv2d(pool1, 128, 5, padding=\"same\", name=\"Conv2\")\n",
    "pool2 = tf.layers.max_pooling2d(conv2, 2, 2, name=\"Pool2\")\n",
    "\n",
    "# Reshape the 2D tensor back to 1D to be fed into \"Dense\"\n",
    "pool2_flat = tf.reshape(pool2, (-1, 8*8*8), name=\"Pool2_Flat\")\n",
    "'''\n",
    "conv1 = tf.layers.conv1d(gameboards_2d, 64, 5, padding=\"same\", name=\"Conv1\")\n",
    "pool1 = tf.layers.max_pooling1d(conv1, 2, 2, name=\"Pool1\")\n",
    "conv2 = tf.layers.conv1d(pool1, 128, 5, padding=\"same\", name=\"Conv2\")\n",
    "pool2 = tf.layers.max_pooling1d(conv2, 2, 2, name=\"Pool2\")\n",
    "\n",
    "# A dense layer with dropout\n",
    "dense = tf.layers.dense(pool2, 512, activation=tf.nn.relu, name=\"Dense\")\n",
    "keep_prob = tf.placeholder(tf.float32, name=\"Keep_Probability\")\n",
    "dropout = tf.nn.dropout(dense, keep_prob, name=\"Dropout\")\n",
    "\n",
    "# The original dense layer to compute logits that are later used for classification\n",
    "logits = tf.layers.dense(dropout, 2, activation=None, name=\"Logits\")"
   ]
  },
  {
   "cell_type": "code",
   "execution_count": 11,
   "metadata": {
    "collapsed": true
   },
   "outputs": [],
   "source": [
    "#logits = tf.add(tf.matmul(gameboards, w), b)"
   ]
  },
  {
   "cell_type": "code",
   "execution_count": 12,
   "metadata": {
    "collapsed": false
   },
   "outputs": [
    {
     "data": {
      "text/plain": [
       "(TensorShape([Dimension(64), Dimension(2)]),\n",
       " TensorShape([Dimension(1), Dimension(2)]),\n",
       " TensorShape([Dimension(None), Dimension(2)]))"
      ]
     },
     "execution_count": 12,
     "metadata": {},
     "output_type": "execute_result"
    }
   ],
   "source": [
    "w.shape, b.shape, logits.shape"
   ]
  },
  {
   "cell_type": "code",
   "execution_count": 13,
   "metadata": {
    "collapsed": true
   },
   "outputs": [],
   "source": [
    "# None, as in, this is not yet defined, there could be any number of them input. \n",
    "# 2, as in, there are two elements in the one-hot vector\n",
    "\n",
    "labels = tf.placeholder(tf.int32, [None, 2], name=\"labels\")"
   ]
  },
  {
   "cell_type": "code",
   "execution_count": 14,
   "metadata": {
    "collapsed": true
   },
   "outputs": [],
   "source": [
    "# This loss is the elementwise loss\n",
    "#loss = tf.nn.softmax_cross_entropy_with_logits(labels=labels, logits=logits)\n",
    "\n",
    "# We want the mean loss\n",
    "loss = tf.reduce_mean(\n",
    "    tf.nn.softmax_cross_entropy_with_logits(labels=labels, logits=logits))"
   ]
  },
  {
   "cell_type": "code",
   "execution_count": 15,
   "metadata": {
    "collapsed": false
   },
   "outputs": [
    {
     "data": {
      "text/plain": [
       "TensorShape([])"
      ]
     },
     "execution_count": 15,
     "metadata": {},
     "output_type": "execute_result"
    }
   ],
   "source": [
    "loss.shape"
   ]
  },
  {
   "cell_type": "code",
   "execution_count": 16,
   "metadata": {
    "collapsed": false
   },
   "outputs": [],
   "source": [
    "train = tf.train.AdamOptimizer().minimize(loss)"
   ]
  },
  {
   "cell_type": "markdown",
   "metadata": {},
   "source": [
    "## Define an error rate to evaluate model performance\n"
   ]
  },
  {
   "cell_type": "code",
   "execution_count": 17,
   "metadata": {
    "collapsed": false
   },
   "outputs": [],
   "source": [
    "with tf.name_scope(\"Error\"):\n",
    "    error = tf.reduce_mean(\n",
    "        tf.cast(\n",
    "            tf.not_equal(tf.argmax(logits, axis=1), tf.argmax(labels, axis=1)), tf.float32))"
   ]
  },
  {
   "cell_type": "code",
   "execution_count": 18,
   "metadata": {
    "collapsed": false
   },
   "outputs": [
    {
     "data": {
      "text/plain": [
       "<tf.Tensor 'Error_1:0' shape=() dtype=string>"
      ]
     },
     "execution_count": 18,
     "metadata": {},
     "output_type": "execute_result"
    }
   ],
   "source": [
    "tf.summary.scalar(\"Loss\", loss)\n",
    "tf.summary.scalar(\"Error\", error)"
   ]
  },
  {
   "cell_type": "code",
   "execution_count": 19,
   "metadata": {
    "collapsed": false
   },
   "outputs": [
    {
     "name": "stdout",
     "output_type": "stream",
     "text": [
      "14000\n",
      "280\n"
     ]
    }
   ],
   "source": [
    "number_of_training_samples = len(list(train_gameboards))\n",
    "print(number_of_training_samples)\n",
    "\n",
    "number_of_samples_per_batch = 50\n",
    "\n",
    "number_of_batches = int(number_of_training_samples / number_of_samples_per_batch)\n",
    "print(number_of_batches)"
   ]
  },
  {
   "cell_type": "code",
   "execution_count": 20,
   "metadata": {
    "collapsed": true
   },
   "outputs": [],
   "source": [
    "sess = tf.Session()"
   ]
  },
  {
   "cell_type": "code",
   "execution_count": 21,
   "metadata": {
    "collapsed": false
   },
   "outputs": [],
   "source": [
    "sess.run(tf.global_variables_initializer())"
   ]
  },
  {
   "cell_type": "code",
   "execution_count": 24,
   "metadata": {
    "collapsed": false
   },
   "outputs": [
    {
     "name": "stdout",
     "output_type": "stream",
     "text": [
      "280\n"
     ]
    }
   ],
   "source": [
    "print(number_of_batches)"
   ]
  },
  {
   "cell_type": "code",
   "execution_count": 25,
   "metadata": {
    "collapsed": false
   },
   "outputs": [
    {
     "name": "stdout",
     "output_type": "stream",
     "text": [
      "Loss: 0.45734918117523193, \tError: 0.2199999988079071\n",
      "Loss: 0.4345977306365967, \tError: 0.2199999988079071\n",
      "Loss: 0.6113526821136475, \tError: 0.3199999928474426\n",
      "Loss: 0.4955920875072479, \tError: 0.25999999046325684\n",
      "Loss: 0.40462303161621094, \tError: 0.18000000715255737\n",
      "Loss: 0.38560882210731506, \tError: 0.18000000715255737\n",
      "Loss: 0.4218312203884125, \tError: 0.2800000011920929\n",
      "Loss: 0.5811537504196167, \tError: 0.2800000011920929\n",
      "Loss: 0.41175341606140137, \tError: 0.14000000059604645\n",
      "Loss: 0.3841090798377991, \tError: 0.18000000715255737\n",
      "Loss: 0.3209764063358307, \tError: 0.1599999964237213\n",
      "Loss: 0.3206625282764435, \tError: 0.1599999964237213\n",
      "Loss: 0.3851778507232666, \tError: 0.23999999463558197\n",
      "Loss: 0.4041688144207001, \tError: 0.23999999463558197\n",
      "Loss: 0.4269767999649048, \tError: 0.2199999988079071\n",
      "Loss: 0.4300076961517334, \tError: 0.2800000011920929\n",
      "Loss: 0.25495970249176025, \tError: 0.11999999731779099\n",
      "Loss: 0.5462267398834229, \tError: 0.25999999046325684\n",
      "Loss: 0.3881421387195587, \tError: 0.18000000715255737\n",
      "Loss: 0.43059879541397095, \tError: 0.1599999964237213\n",
      "Loss: 0.31057509779930115, \tError: 0.14000000059604645\n",
      "Loss: 0.3127939701080322, \tError: 0.20000000298023224\n",
      "Loss: 0.4715098440647125, \tError: 0.2800000011920929\n",
      "Loss: 0.4263685643672943, \tError: 0.2199999988079071\n",
      "Loss: 0.24843868613243103, \tError: 0.14000000059604645\n",
      "Loss: 0.2748216390609741, \tError: 0.20000000298023224\n",
      "Loss: 0.29878556728363037, \tError: 0.1599999964237213\n",
      "Loss: 0.31833651661872864, \tError: 0.18000000715255737\n"
     ]
    }
   ],
   "source": [
    "#for e in range(50):\n",
    "for i in range(number_of_batches):\n",
    "    first_index = i*number_of_samples_per_batch\n",
    "    second_index = (i*number_of_samples_per_batch) + number_of_samples_per_batch\n",
    "    batch = train_gameboards[first_index:second_index]\n",
    "    batchLabels = train_labels[first_index:second_index]\n",
    "\n",
    "    if i % 10 == 0:\n",
    "        Error, Loss = sess.run([error, loss], feed_dict={gameboards:batch, labels:batchLabels, keep_prob:1.0})\n",
    "        print(\"Loss: {}, \\tError: {}\".format(Loss, Error))\n",
    "    sess.run(train, feed_dict={gameboards:batch, labels:batchLabels, keep_prob:1.0})\n"
   ]
  },
  {
   "cell_type": "code",
   "execution_count": 26,
   "metadata": {
    "collapsed": false
   },
   "outputs": [],
   "source": [
    "Error = sess.run(error, feed_dict={gameboards:test_gameboards, labels:test_labels, keep_prob:1.0})"
   ]
  },
  {
   "cell_type": "code",
   "execution_count": 28,
   "metadata": {
    "collapsed": false
   },
   "outputs": [
    {
     "name": "stdout",
     "output_type": "stream",
     "text": [
      "0.411732\n"
     ]
    }
   ],
   "source": [
    "print(Error)"
   ]
  },
  {
   "cell_type": "code",
   "execution_count": null,
   "metadata": {
    "collapsed": true
   },
   "outputs": [],
   "source": []
  }
 ],
 "metadata": {
  "kernelspec": {
   "display_name": "Python 3",
   "language": "python",
   "name": "python3"
  },
  "language_info": {
   "codemirror_mode": {
    "name": "ipython",
    "version": 3
   },
   "file_extension": ".py",
   "mimetype": "text/x-python",
   "name": "python",
   "nbconvert_exporter": "python",
   "pygments_lexer": "ipython3",
   "version": "3.5.2"
  }
 },
 "nbformat": 4,
 "nbformat_minor": 0
}
