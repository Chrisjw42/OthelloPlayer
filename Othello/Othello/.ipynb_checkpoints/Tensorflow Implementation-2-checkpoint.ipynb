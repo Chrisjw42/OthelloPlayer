{
 "cells": [
  {
   "cell_type": "code",
   "execution_count": 1,
   "metadata": {
    "collapsed": false
   },
   "outputs": [],
   "source": [
    "import tensorflow as tf\n",
    "import numpy as np\n",
    "import dbGeneration as db\n",
    "import random"
   ]
  },
  {
   "cell_type": "markdown",
   "metadata": {},
   "source": [
    "# Data Pre-Processing"
   ]
  },
  {
   "cell_type": "code",
   "execution_count": 2,
   "metadata": {
    "collapsed": false
   },
   "outputs": [
    {
     "name": "stdout",
     "output_type": "stream",
     "text": [
      "Returned data points in 81 batches\n"
     ]
    }
   ],
   "source": [
    "tensorInputs, raw_labels = db.get_tensorinputs_and_labels()\n",
    "tensorInputs = np.asarray(tensorInputs)\n"
   ]
  },
  {
   "cell_type": "code",
   "execution_count": 3,
   "metadata": {
    "collapsed": false
   },
   "outputs": [
    {
     "name": "stdout",
     "output_type": "stream",
     "text": [
      "225447 training samples\n"
     ]
    }
   ],
   "source": [
    "n = 0\n",
    "\n",
    "\n",
    "for i in tensorInputs:\n",
    "    n += len(i)\n",
    "    \n",
    "print(n, \"training samples\")"
   ]
  },
  {
   "cell_type": "code",
   "execution_count": 4,
   "metadata": {
    "collapsed": false
   },
   "outputs": [
    {
     "name": "stdout",
     "output_type": "stream",
     "text": [
      "81\n"
     ]
    }
   ],
   "source": [
    "print(len(raw_labels))"
   ]
  },
  {
   "cell_type": "code",
   "execution_count": 5,
   "metadata": {
    "collapsed": false
   },
   "outputs": [
    {
     "name": "stdout",
     "output_type": "stream",
     "text": [
      "[81]\n",
      "225447\n",
      "225447\n",
      "[[ 2.  2.  2.  2.  2.  2.  2.  2.  2.  2.]\n",
      " [ 2.  0.  0.  0.  0.  0.  0.  0.  0.  2.]\n",
      " [ 2.  0.  0.  0.  0.  0.  0.  0.  0.  2.]\n",
      " [ 2.  0.  0. -1.  1.  0.  1.  0.  0.  2.]\n",
      " [ 2.  0.  0. -1. -1.  1. -1.  0.  0.  2.]\n",
      " [ 2.  0.  0. -1. -1. -1. -1.  0.  0.  2.]\n",
      " [ 2.  0.  0.  0.  1.  1.  1.  1.  0.  2.]\n",
      " [ 2.  0.  0.  0.  0.  0.  0.  0.  0.  2.]\n",
      " [ 2.  0.  0.  0.  0.  0.  0.  0.  0.  2.]\n",
      " [ 2.  2.  2.  2.  2.  2.  2.  2.  2.  2.]]\n",
      "-1\n"
     ]
    }
   ],
   "source": [
    "print(np.asarray(tensorInputs.shape))\n",
    "\n",
    "tensorInputs2 = []\n",
    "raw_labels2 = []\n",
    "\n",
    "for i in tensorInputs:\n",
    "    for j in i:\n",
    "        tensorInputs2.append(j)\n",
    "\n",
    "for i in raw_labels:\n",
    "    for j in i:\n",
    "        raw_labels2.append(j)\n",
    "\n",
    "print(len(tensorInputs2))\n",
    "print(len(raw_labels2))\n",
    "\n",
    "print(tensorInputs2[0])\n",
    "print(raw_labels2[0])"
   ]
  },
  {
   "cell_type": "code",
   "execution_count": 6,
   "metadata": {
    "collapsed": false
   },
   "outputs": [],
   "source": [
    "raw_labels = raw_labels2\n",
    "tensorInputs = tensorInputs2\n",
    "del(raw_labels2)\n",
    "del(tensorInputs2)"
   ]
  },
  {
   "cell_type": "code",
   "execution_count": 7,
   "metadata": {
    "collapsed": false
   },
   "outputs": [
    {
     "name": "stdout",
     "output_type": "stream",
     "text": [
      "[-1, -1, 1, 1, 1, 1, 1, 1, 1, -1]\n"
     ]
    }
   ],
   "source": [
    "print(raw_labels[:10])"
   ]
  },
  {
   "cell_type": "markdown",
   "metadata": {},
   "source": [
    "### Convert labels to one-hot vector"
   ]
  },
  {
   "cell_type": "code",
   "execution_count": 8,
   "metadata": {
    "collapsed": false
   },
   "outputs": [],
   "source": [
    "pre_labels = []\n",
    "for i in raw_labels:\n",
    "    if i == -1:\n",
    "        pre_labels.append([1,0])\n",
    "    else:\n",
    "        pre_labels.append([0,1])\n",
    "\n",
    "pre_labels = np.asarray(pre_labels)"
   ]
  },
  {
   "cell_type": "code",
   "execution_count": 9,
   "metadata": {
    "collapsed": false,
    "scrolled": true
   },
   "outputs": [
    {
     "name": "stdout",
     "output_type": "stream",
     "text": [
      "(225447, 2)\n",
      "[[1 0]\n",
      " [1 0]\n",
      " [0 1]\n",
      " ..., \n",
      " [0 1]\n",
      " [1 0]\n",
      " [1 0]]\n"
     ]
    }
   ],
   "source": [
    "print(pre_labels.shape)\n",
    "print(pre_labels)"
   ]
  },
  {
   "cell_type": "markdown",
   "metadata": {},
   "source": [
    "### Define training and testing data"
   ]
  },
  {
   "cell_type": "code",
   "execution_count": 10,
   "metadata": {
    "collapsed": false
   },
   "outputs": [
    {
     "name": "stdout",
     "output_type": "stream",
     "text": [
      "225447\n"
     ]
    }
   ],
   "source": [
    "print(len(tensorInputs))"
   ]
  },
  {
   "cell_type": "code",
   "execution_count": 11,
   "metadata": {
    "collapsed": true
   },
   "outputs": [],
   "source": [
    "BATCH_SIZE = 64\n",
    "N_SAMPLES = len(tensorInputs)\n",
    "N_TRAIN = 220000\n",
    "N_VALIDATION = int((N_SAMPLES - N_TRAIN)/2)\n",
    "N_BATCHES = int(N_TRAIN/BATCH_SIZE)"
   ]
  },
  {
   "cell_type": "code",
   "execution_count": 12,
   "metadata": {
    "collapsed": false
   },
   "outputs": [
    {
     "name": "stdout",
     "output_type": "stream",
     "text": [
      "3437\n"
     ]
    }
   ],
   "source": [
    "print(N_BATCHES)"
   ]
  },
  {
   "cell_type": "markdown",
   "metadata": {},
   "source": [
    "## Shuffle data to avoid grouping among games"
   ]
  },
  {
   "cell_type": "code",
   "execution_count": 13,
   "metadata": {
    "collapsed": false
   },
   "outputs": [],
   "source": [
    "def get_randomised_batches(training_data, training_labels):\n",
    "    pairs = []\n",
    "    for i in range(len(training_data)):\n",
    "        pairs.append([training_data[i], training_labels[i]])\n",
    "        \n",
    "    random.shuffle(pairs)\n",
    "    x = []\n",
    "    y = []\n",
    "\n",
    "    for i in pairs:\n",
    "        x.append(np.reshape(i[0], (100)))\n",
    "        y.append(i[1])\n",
    "        \n",
    "    return x, y"
   ]
  },
  {
   "cell_type": "code",
   "execution_count": 14,
   "metadata": {
    "collapsed": false
   },
   "outputs": [],
   "source": [
    "train_gameboards = tensorInputs[:N_TRAIN]\n",
    "validation_gameboards = tensorInputs[N_TRAIN:N_TRAIN+N_VALIDATION]\n",
    "test_gameboards = tensorInputs[N_TRAIN+N_VALIDATION:]\n",
    "\n",
    "train_labels = pre_labels[:N_TRAIN]\n",
    "validation_labels = pre_labels[N_TRAIN:N_TRAIN+N_VALIDATION]\n",
    "test_labels = pre_labels[N_TRAIN+N_VALIDATION:]"
   ]
  },
  {
   "cell_type": "code",
   "execution_count": 15,
   "metadata": {
    "collapsed": false
   },
   "outputs": [
    {
     "name": "stdout",
     "output_type": "stream",
     "text": [
      "220000\n",
      "2723\n",
      "2724\n"
     ]
    }
   ],
   "source": [
    "print(len(train_gameboards))\n",
    "print(len(validation_gameboards))\n",
    "print(len(test_gameboards))"
   ]
  },
  {
   "cell_type": "code",
   "execution_count": 16,
   "metadata": {
    "collapsed": false
   },
   "outputs": [
    {
     "name": "stdout",
     "output_type": "stream",
     "text": [
      "[[ 2.  2.  2.  2.  2.  2.  2.  2.  2.  2.]\n",
      " [ 2.  0.  0.  0.  0.  0.  0.  0.  0.  2.]\n",
      " [ 2.  0.  0.  0.  0.  0.  0.  0.  0.  2.]\n",
      " [ 2.  0.  0.  0.  1.  1.  1.  0.  0.  2.]\n",
      " [ 2.  0.  0. -1.  1.  1. -1. -1.  0.  2.]\n",
      " [ 2.  0.  0. -1.  1. -1.  1. -1.  0.  2.]\n",
      " [ 2.  0.  0. -1.  1.  1.  1.  1.  0.  2.]\n",
      " [ 2.  0.  0.  0. -1. -1.  0.  0.  0.  2.]\n",
      " [ 2.  0.  0.  0.  0. -1.  0.  0.  0.  2.]\n",
      " [ 2.  2.  2.  2.  2.  2.  2.  2.  2.  2.]] [1 0]\n"
     ]
    }
   ],
   "source": [
    "print(test_gameboards[0], test_labels[0])"
   ]
  },
  {
   "cell_type": "markdown",
   "metadata": {},
   "source": [
    "# Model Definition"
   ]
  },
  {
   "cell_type": "code",
   "execution_count": 17,
   "metadata": {
    "collapsed": false
   },
   "outputs": [],
   "source": [
    "gameboards = tf.placeholder(tf.float32, (None, 100), name=\"gameBoards\")\n",
    "\n",
    "gameboards2d = tf.reshape(gameboards, (-1, 10, 10, 1), name=\"gameBoards2d\")\n",
    "\n"
   ]
  },
  {
   "cell_type": "code",
   "execution_count": 18,
   "metadata": {
    "collapsed": false,
    "scrolled": true
   },
   "outputs": [],
   "source": [
    "# First Convulutional layer, small 2x2 filter\n",
    "conv1 = tf.layers.conv2d(gameboards2d, 64, 2, padding=\"same\", name=\"Conv1\", activation=tf.nn.relu)\n",
    "pool1 = tf.layers.max_pooling2d(conv1, 2, 2, name=\"Pool1\")\n",
    "conv2 = tf.layers.conv2d(pool1, 128, 3, padding=\"same\", name=\"Conv2\", activation=tf.nn.relu)\n",
    "pool2 = tf.layers.max_pooling2d(conv2, 2, 2, name=\"Pool2\")\n",
    "\n",
    "conv3 = tf.layers.conv2d(pool2, 128, 4, padding=\"same\", name=\"Conv3\", activation=tf.nn.relu)\n",
    "pool3 = tf.layers.max_pooling2d(conv3, 2, 2, name=\"Pool3\")\n",
    "\n",
    "# Reshape the 2D tensor back to 1D to be fed into \"Dense\"\n",
    "# Flatten out the pooling - GET THIS NUMBER FROM POOL.SHAPE\n",
    "pool2_flat = tf.reshape(pool3, (-1, int(1*1*128)), name=\"Pool2_Flat\")\n",
    "\n",
    "\n",
    "# The dropout allows us to train a subset of the neurons at any given iteration.  \n",
    "keep_prob = tf.placeholder(tf.float32, name=\"Keep_Probability\")\n",
    "\n",
    "\n",
    "# A dense layer with dropout\n",
    "# DENSE - a fully connected linear transofmration of every dimension of the data\n",
    "dense = tf.layers.dense(pool2_flat, int(128), activation=tf.nn.relu, name=\"Dense\")\n",
    "\n",
    "# DROPOUT - if set to 0.5, rendomly select 50% of the neurons to ignore (different with each computation)\n",
    "dropout = tf.nn.dropout(dense, keep_prob, name=\"Dropout\")\n",
    "\n",
    "dense2 = tf.layers.dense(dropout, int(128), activation=tf.nn.relu, name=\"Dense2\")\n",
    "dropout2 = tf.nn.dropout(dense2, keep_prob, name=\"Dropout2\")\n",
    "\n",
    "\"\"\"dense3 = tf.layers.dense(dropout, int(128), activation=tf.nn.relu, name=\"Dense3\")\n",
    "dropout3 = tf.nn.dropout(dense3, keep_prob, name=\"Dropout3\")\"\"\"\n",
    "\n",
    "# A dense layer to classify the final values. Only 2 neurons. \n",
    "predictions = tf.layers.dense(dropout2, 2, activation=None, name=\"Predictions\")"
   ]
  },
  {
   "cell_type": "code",
   "execution_count": 19,
   "metadata": {
    "collapsed": false
   },
   "outputs": [
    {
     "data": {
      "text/plain": [
       "TensorShape([Dimension(None), Dimension(1), Dimension(1), Dimension(128)])"
      ]
     },
     "execution_count": 19,
     "metadata": {},
     "output_type": "execute_result"
    }
   ],
   "source": [
    "pool3.shape"
   ]
  },
  {
   "cell_type": "code",
   "execution_count": 20,
   "metadata": {
    "collapsed": true
   },
   "outputs": [],
   "source": [
    "# None, as in, this is not yet defined, there could be any number of them input. \n",
    "# 2, as in, there are two elements in the one-hot vector\n",
    "\n",
    "labels = tf.placeholder(tf.int32, [None, 2], name=\"labels\")"
   ]
  },
  {
   "cell_type": "code",
   "execution_count": 21,
   "metadata": {
    "collapsed": true
   },
   "outputs": [],
   "source": [
    "# This loss is the elementwise loss\n",
    "#loss = tf.nn.softmax_cross_entropy_with_logits(labels=labels, logits=logits)\n",
    "\n",
    "with tf.name_scope(\"Loss\"):\n",
    "    loss = tf.reduce_mean(\n",
    "        tf.nn.softmax_cross_entropy_with_logits(labels=labels, logits=predictions))\n",
    "\n",
    "\"\"\"with tf.name_scope(\"Loss\"):\n",
    "    loss = tf.losses.mean_squared_error(labels=labels, predictions=predictions)\"\"\"\n",
    "\n",
    "with tf.name_scope(\"Optimizer\"):\n",
    "    train = tf.train.AdamOptimizer(learning_rate=0.001, name=\"Adam\").minimize(loss)"
   ]
  },
  {
   "cell_type": "code",
   "execution_count": 22,
   "metadata": {
    "collapsed": false
   },
   "outputs": [],
   "source": [
    "with tf.name_scope(\"Error\"):\n",
    "    error = tf.reduce_mean(\n",
    "        tf.cast(tf.not_equal(tf.argmax(labels, 1), tf.argmax(predictions, 1)), tf.float32), name=\"Mean\")"
   ]
  },
  {
   "cell_type": "markdown",
   "metadata": {},
   "source": [
    "## Define an error rate to evaluate model performance\n"
   ]
  },
  {
   "cell_type": "code",
   "execution_count": 23,
   "metadata": {
    "collapsed": false
   },
   "outputs": [
    {
     "data": {
      "text/plain": [
       "<tf.Tensor 'Error_1:0' shape=() dtype=string>"
      ]
     },
     "execution_count": 23,
     "metadata": {},
     "output_type": "execute_result"
    }
   ],
   "source": [
    "tf.summary.scalar(\"Loss\", loss)\n",
    "tf.summary.scalar(\"Error\", error)"
   ]
  },
  {
   "cell_type": "code",
   "execution_count": 24,
   "metadata": {
    "collapsed": false
   },
   "outputs": [
    {
     "name": "stdout",
     "output_type": "stream",
     "text": [
      "3437\n"
     ]
    }
   ],
   "source": [
    "number_of_batches = int(N_TRAIN / BATCH_SIZE)\n",
    "print(number_of_batches)"
   ]
  },
  {
   "cell_type": "code",
   "execution_count": 25,
   "metadata": {
    "collapsed": true
   },
   "outputs": [],
   "source": [
    "sess = tf.Session()"
   ]
  },
  {
   "cell_type": "code",
   "execution_count": 26,
   "metadata": {
    "collapsed": false
   },
   "outputs": [],
   "source": [
    "sess.run(tf.global_variables_initializer())"
   ]
  },
  {
   "cell_type": "code",
   "execution_count": null,
   "metadata": {
    "collapsed": true
   },
   "outputs": [],
   "source": []
  },
  {
   "cell_type": "code",
   "execution_count": 27,
   "metadata": {
    "collapsed": false
   },
   "outputs": [
    {
     "name": "stdout",
     "output_type": "stream",
     "text": [
      "0, Loss: 0.6934241056442261, \tError: 48.4375%\n",
      "100, Loss: 0.6895959377288818, \tError: 45.3125%\n",
      "200, Loss: 0.6775625348091125, \tError: 43.75%\n",
      "300, Loss: 0.6495373249053955, \tError: 37.5%\n",
      "400, Loss: 0.6361879110336304, \tError: 34.375%\n",
      "500, Loss: 0.6782233715057373, \tError: 50.0%\n",
      "600, Loss: 0.6091499328613281, \tError: 26.5625%\n",
      "700, Loss: 0.6377648115158081, \tError: 39.0625%\n",
      "800, Loss: 0.6590260863304138, \tError: 39.0625%\n",
      "900, Loss: 0.6363053321838379, \tError: 40.625%\n",
      "1000, Loss: 0.6167954206466675, \tError: 35.9375%\n",
      "1100, Loss: 0.6054744720458984, \tError: 39.0625%\n",
      "1200, Loss: 0.6666163206100464, \tError: 42.1875%\n",
      "1300, Loss: 0.6198877692222595, \tError: 29.6875%\n",
      "1400, Loss: 0.6520979404449463, \tError: 40.625%\n",
      "1500, Loss: 0.6208159923553467, \tError: 32.8125%\n",
      "1600, Loss: 0.7264745235443115, \tError: 43.75%\n",
      "1700, Loss: 0.6433959007263184, \tError: 37.5%\n",
      "1800, Loss: 0.616595983505249, \tError: 29.6875%\n",
      "1900, Loss: 0.604946494102478, \tError: 35.9375%\n",
      "2000, Loss: 0.6258558034896851, \tError: 32.8125%\n",
      "2100, Loss: 0.649631679058075, \tError: 40.625%\n",
      "2200, Loss: 0.6503689289093018, \tError: 40.625%\n",
      "2300, Loss: 0.6243276596069336, \tError: 37.5%\n",
      "2400, Loss: 0.7667430639266968, \tError: 54.6875%\n",
      "2500, Loss: 0.6260433793067932, \tError: 37.5%\n",
      "2600, Loss: 0.6729049682617188, \tError: 46.875%\n",
      "2700, Loss: 0.6218879222869873, \tError: 37.5%\n",
      "2800, Loss: 0.6710063815116882, \tError: 39.0625%\n",
      "2900, Loss: 0.6075595021247864, \tError: 31.25%\n",
      "3000, Loss: 0.6807688474655151, \tError: 48.4375%\n",
      "3100, Loss: 0.6275333166122437, \tError: 21.875%\n",
      "3200, Loss: 0.6646323800086975, \tError: 39.0625%\n",
      "3300, Loss: 0.6491858959197998, \tError: 37.5%\n",
      "3400, Loss: 0.630478024482727, \tError: 35.9375%\n",
      "0, Loss: 0.6512506008148193, \tError: 39.0625%\n",
      "100, Loss: 0.6535087823867798, \tError: 40.625%\n",
      "200, Loss: 0.6230971813201904, \tError: 29.6875%\n",
      "300, Loss: 0.6525700092315674, \tError: 40.625%\n",
      "400, Loss: 0.6412778496742249, \tError: 37.5%\n",
      "500, Loss: 0.653960108757019, \tError: 43.75%\n",
      "600, Loss: 0.6083780527114868, \tError: 34.375%\n",
      "700, Loss: 0.6190776824951172, \tError: 37.5%\n",
      "800, Loss: 0.6363686323165894, \tError: 39.0625%\n",
      "900, Loss: 0.6428300142288208, \tError: 37.5%\n",
      "1000, Loss: 0.653131365776062, \tError: 39.0625%\n",
      "1100, Loss: 0.5758999586105347, \tError: 32.8125%\n",
      "1200, Loss: 0.6514492034912109, \tError: 37.5%\n",
      "1300, Loss: 0.6159496307373047, \tError: 29.6875%\n",
      "1400, Loss: 0.7096772789955139, \tError: 46.875%\n",
      "1500, Loss: 0.6079044342041016, \tError: 29.6875%\n",
      "1600, Loss: 0.6001662015914917, \tError: 29.6875%\n",
      "1700, Loss: 0.6336072683334351, \tError: 37.5%\n",
      "1800, Loss: 0.6781624555587769, \tError: 40.625%\n",
      "1900, Loss: 0.6693477630615234, \tError: 50.0%\n",
      "2000, Loss: 0.6310392022132874, \tError: 43.75%\n",
      "2100, Loss: 0.6317399740219116, \tError: 28.125%\n",
      "2200, Loss: 0.669101357460022, \tError: 40.625%\n",
      "2300, Loss: 0.6494290828704834, \tError: 35.9375%\n",
      "2400, Loss: 0.7375257015228271, \tError: 46.875%\n",
      "2500, Loss: 0.5866187810897827, \tError: 25.0%\n",
      "2600, Loss: 0.6064639091491699, \tError: 35.9375%\n",
      "2700, Loss: 0.6833702325820923, \tError: 43.75%\n",
      "2800, Loss: 0.6621055006980896, \tError: 34.375%\n",
      "2900, Loss: 0.6079577207565308, \tError: 32.8125%\n",
      "3000, Loss: 0.6556774377822876, \tError: 34.375%\n",
      "3100, Loss: 0.6568239331245422, \tError: 42.1875%\n",
      "3200, Loss: 0.605891227722168, \tError: 32.8125%\n",
      "3300, Loss: 0.6580957174301147, \tError: 37.5%\n",
      "3400, Loss: 0.6241823434829712, \tError: 39.0625%\n",
      "0, Loss: 0.6054255962371826, \tError: 32.8125%\n",
      "100, Loss: 0.5991316437721252, \tError: 31.25%\n",
      "200, Loss: 0.624726414680481, \tError: 43.75%\n",
      "300, Loss: 0.6141322255134583, \tError: 32.8125%\n",
      "400, Loss: 0.6521226167678833, \tError: 37.5%\n",
      "500, Loss: 0.5889625549316406, \tError: 28.125%\n",
      "600, Loss: 0.615106999874115, \tError: 37.5%\n",
      "700, Loss: 0.6785789132118225, \tError: 42.1875%\n",
      "800, Loss: 0.6348575949668884, \tError: 37.5%\n",
      "900, Loss: 0.5876034498214722, \tError: 28.125%\n",
      "1000, Loss: 0.6736685633659363, \tError: 42.1875%\n",
      "1100, Loss: 0.6736371517181396, \tError: 40.625%\n",
      "1200, Loss: 0.6507003307342529, \tError: 45.3125%\n",
      "1300, Loss: 0.6147181391716003, \tError: 32.8125%\n",
      "1400, Loss: 0.577772855758667, \tError: 28.125%\n",
      "1500, Loss: 0.6539301872253418, \tError: 37.5%\n",
      "1600, Loss: 0.6478111743927002, \tError: 39.0625%\n",
      "1700, Loss: 0.6454561948776245, \tError: 34.375%\n",
      "1800, Loss: 0.6565101146697998, \tError: 42.1875%\n",
      "1900, Loss: 0.6401185393333435, \tError: 40.625%\n",
      "2000, Loss: 0.6566662788391113, \tError: 39.0625%\n",
      "2100, Loss: 0.6783477067947388, \tError: 45.3125%\n",
      "2200, Loss: 0.5810526013374329, \tError: 26.5625%\n",
      "2300, Loss: 0.6170650720596313, \tError: 42.1875%\n",
      "2400, Loss: 0.6469697952270508, \tError: 39.0625%\n",
      "2500, Loss: 0.6749193072319031, \tError: 42.1875%\n",
      "2600, Loss: 0.685463011264801, \tError: 46.875%\n",
      "2700, Loss: 0.5513015985488892, \tError: 23.4375%\n",
      "2800, Loss: 0.6950823068618774, \tError: 43.75%\n",
      "2900, Loss: 0.6920387744903564, \tError: 37.5%\n",
      "3000, Loss: 0.573590874671936, \tError: 29.6875%\n",
      "3100, Loss: 0.5858842134475708, \tError: 31.25%\n",
      "3200, Loss: 0.6530002355575562, \tError: 39.0625%\n",
      "3300, Loss: 0.6104367971420288, \tError: 29.6875%\n",
      "3400, Loss: 0.7035019397735596, \tError: 45.3125%\n",
      "0, Loss: 0.6330525279045105, \tError: 35.9375%\n",
      "100, Loss: 0.6024158000946045, \tError: 34.375%\n",
      "200, Loss: 0.659500002861023, \tError: 39.0625%\n",
      "300, Loss: 0.6861036419868469, \tError: 40.625%\n",
      "400, Loss: 0.6566199064254761, \tError: 40.625%\n",
      "500, Loss: 0.63531893491745, \tError: 35.9375%\n",
      "600, Loss: 0.6415017247200012, \tError: 32.8125%\n",
      "700, Loss: 0.6140087842941284, \tError: 28.125%\n",
      "800, Loss: 0.6466367244720459, \tError: 42.1875%\n",
      "900, Loss: 0.672600269317627, \tError: 39.0625%\n",
      "1000, Loss: 0.6280727982521057, \tError: 34.375%\n",
      "1100, Loss: 0.6682443618774414, \tError: 48.4375%\n",
      "1200, Loss: 0.6580365896224976, \tError: 37.5%\n",
      "1300, Loss: 0.5773023366928101, \tError: 25.0%\n",
      "1400, Loss: 0.5429014563560486, \tError: 25.0%\n",
      "1500, Loss: 0.5499789714813232, \tError: 25.0%\n",
      "1600, Loss: 0.6289775967597961, \tError: 34.375%\n",
      "1700, Loss: 0.6680138111114502, \tError: 43.75%\n",
      "1800, Loss: 0.5835415720939636, \tError: 26.5625%\n",
      "1900, Loss: 0.5892153978347778, \tError: 28.125%\n",
      "2000, Loss: 0.6504558324813843, \tError: 31.25%\n",
      "2100, Loss: 0.6511849761009216, \tError: 39.0625%\n",
      "2200, Loss: 0.6538121104240417, \tError: 32.8125%\n",
      "2300, Loss: 0.6732615232467651, \tError: 42.1875%\n",
      "2400, Loss: 0.6899011731147766, \tError: 40.625%\n",
      "2500, Loss: 0.627444326877594, \tError: 39.0625%\n",
      "2600, Loss: 0.6175957918167114, \tError: 39.0625%\n",
      "2700, Loss: 0.6282098293304443, \tError: 39.0625%\n",
      "2800, Loss: 0.6640478372573853, \tError: 42.1875%\n",
      "2900, Loss: 0.653917670249939, \tError: 34.375%\n",
      "3000, Loss: 0.5837162733078003, \tError: 28.125%\n",
      "3100, Loss: 0.622794508934021, \tError: 37.5%\n",
      "3200, Loss: 0.6507292985916138, \tError: 42.1875%\n",
      "3300, Loss: 0.5351839661598206, \tError: 29.6875%\n",
      "3400, Loss: 0.6498404741287231, \tError: 31.25%\n",
      "0, Loss: 0.643693208694458, \tError: 40.625%\n",
      "100, Loss: 0.6622670888900757, \tError: 37.5%\n",
      "200, Loss: 0.6494461297988892, \tError: 43.75%\n",
      "300, Loss: 0.5740023851394653, \tError: 21.875%\n",
      "400, Loss: 0.628548264503479, \tError: 37.5%\n",
      "500, Loss: 0.6340329647064209, \tError: 34.375%\n",
      "600, Loss: 0.6589460372924805, \tError: 35.9375%\n",
      "700, Loss: 0.6445953845977783, \tError: 37.5%\n",
      "800, Loss: 0.5857118368148804, \tError: 29.6875%\n",
      "900, Loss: 0.6279525756835938, \tError: 37.5%\n",
      "1000, Loss: 0.6190109252929688, \tError: 35.9375%\n",
      "1100, Loss: 0.5755264759063721, \tError: 31.25%\n",
      "1200, Loss: 0.6143513917922974, \tError: 29.6875%\n",
      "1300, Loss: 0.7121889591217041, \tError: 48.4375%\n",
      "1400, Loss: 0.6469693183898926, \tError: 39.0625%\n",
      "1500, Loss: 0.578376829624176, \tError: 28.125%\n",
      "1600, Loss: 0.5942814946174622, \tError: 39.0625%\n",
      "1700, Loss: 0.6551923751831055, \tError: 37.5%\n",
      "1800, Loss: 0.6974120736122131, \tError: 50.0%\n",
      "1900, Loss: 0.6092574000358582, \tError: 35.9375%\n",
      "2000, Loss: 0.6124138832092285, \tError: 32.8125%\n",
      "2100, Loss: 0.6266124248504639, \tError: 40.625%\n",
      "2200, Loss: 0.6651452779769897, \tError: 39.0625%\n",
      "2300, Loss: 0.6502515077590942, \tError: 43.75%\n",
      "2400, Loss: 0.6272885799407959, \tError: 37.5%\n",
      "2500, Loss: 0.640609622001648, \tError: 34.375%\n",
      "2600, Loss: 0.6829870939254761, \tError: 45.3125%\n",
      "2700, Loss: 0.6226398348808289, \tError: 28.125%\n",
      "2800, Loss: 0.6533657312393188, \tError: 42.1875%\n",
      "2900, Loss: 0.6111345291137695, \tError: 34.375%\n",
      "3000, Loss: 0.7148941159248352, \tError: 51.5625%\n",
      "3100, Loss: 0.6099997162818909, \tError: 35.9375%\n",
      "3200, Loss: 0.6113272905349731, \tError: 34.375%\n",
      "3300, Loss: 0.6187688708305359, \tError: 34.375%\n",
      "3400, Loss: 0.6563898324966431, \tError: 40.625%\n"
     ]
    }
   ],
   "source": [
    "for epoch in range(5):\n",
    "    #randomise the data\n",
    "    gb, lbl  = get_randomised_batches(train_gameboards, train_labels)\n",
    "    \n",
    "    for i in range(N_BATCHES):\n",
    "        first_index = i*BATCH_SIZE\n",
    "        second_index = (i*BATCH_SIZE) + BATCH_SIZE\n",
    "        batch = gb[first_index:second_index]\n",
    "        batchLabels = lbl[first_index:second_index]\n",
    "\n",
    "        #print(np.asarray(batch).shape)\n",
    "\n",
    "        if i % 100 == 0:\n",
    "            Error, Loss = sess.run([error, loss], feed_dict={gameboards:batch, labels:batchLabels, keep_prob:1.0})\n",
    "            print(\"{}, Loss: {}, \\tError: {}%\".format(i, Loss, Error*100))\n",
    "        sess.run(train, feed_dict={gameboards:batch, labels:batchLabels, keep_prob:0.5})\n"
   ]
  },
  {
   "cell_type": "code",
   "execution_count": 28,
   "metadata": {
    "collapsed": false
   },
   "outputs": [],
   "source": [
    "val = []\n",
    "\n",
    "for i in validation_gameboards:\n",
    "    val.append(np.reshape(i, (100)))"
   ]
  },
  {
   "cell_type": "code",
   "execution_count": 29,
   "metadata": {
    "collapsed": false
   },
   "outputs": [],
   "source": [
    "#test = []\n",
    "\n",
    "#for i in test_gameboards:\n",
    "    #test.append(np.reshape(i, (100)))"
   ]
  },
  {
   "cell_type": "markdown",
   "metadata": {},
   "source": []
  },
  {
   "cell_type": "code",
   "execution_count": 30,
   "metadata": {
    "collapsed": false
   },
   "outputs": [
    {
     "name": "stdout",
     "output_type": "stream",
     "text": [
      "0.392214\n"
     ]
    }
   ],
   "source": [
    "Error = sess.run(error, feed_dict={gameboards:val, labels:validation_labels, keep_prob:1.0})\n",
    "print(Error)"
   ]
  },
  {
   "cell_type": "code",
   "execution_count": 31,
   "metadata": {
    "collapsed": false
   },
   "outputs": [],
   "source": [
    "#Error = sess.run(error, feed_dict={gameboards:test, labels:test_labels, keep_prob:1.0})\n",
    "#print(Error)"
   ]
  },
  {
   "cell_type": "code",
   "execution_count": null,
   "metadata": {
    "collapsed": true
   },
   "outputs": [],
   "source": []
  }
 ],
 "metadata": {
  "kernelspec": {
   "display_name": "Python 3",
   "language": "python",
   "name": "python3"
  },
  "language_info": {
   "codemirror_mode": {
    "name": "ipython",
    "version": 3
   },
   "file_extension": ".py",
   "mimetype": "text/x-python",
   "name": "python",
   "nbconvert_exporter": "python",
   "pygments_lexer": "ipython3",
   "version": "3.5.2"
  }
 },
 "nbformat": 4,
 "nbformat_minor": 0
}
