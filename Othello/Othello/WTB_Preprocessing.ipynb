{
 "cells": [
  {
   "cell_type": "code",
   "execution_count": 3,
   "metadata": {
    "collapsed": true
   },
   "outputs": [],
   "source": [
    "# This snippet transforms .wtb files storing Othello match record into human readable formats\n",
    "# By human readable format, we mean standard Othello encoding, eg. c4e3f6e6f5c5f4g6f7d3f3g5g4e7d6h3\n",
    "\n",
    "import os"
   ]
  },
  {
   "cell_type": "code",
   "execution_count": 4,
   "metadata": {
    "collapsed": true
   },
   "outputs": [],
   "source": [
    "rootdir = \"data\\\\gamedata_wtb\""
   ]
  },
  {
   "cell_type": "code",
   "execution_count": 6,
   "metadata": {
    "collapsed": false
   },
   "outputs": [],
   "source": [
    "files = os.listdir(rootdir)"
   ]
  },
  {
   "cell_type": "code",
   "execution_count": 10,
   "metadata": {
    "collapsed": false
   },
   "outputs": [
    {
     "name": "stdout",
     "output_type": "stream",
     "text": [
      "['WTH_1977.wtb', 'WTH_1978.wtb', 'WTH_1979.wtb', 'WTH_1980.wtb', 'WTH_1981.wtb', 'WTH_1982.wtb', 'WTH_1983.wtb', 'WTH_1984.wtb', 'WTH_1985.wtb', 'WTH_1986.wtb', 'WTH_1987.wtb', 'WTH_1988.wtb', 'WTH_1989.wtb', 'WTH_1990.wtb', 'WTH_1991.wtb', 'WTH_1992.wtb', 'WTH_1993.wtb', 'WTH_1994.wtb', 'WTH_1995.wtb', 'WTH_1996.wtb', 'WTH_1997.wtb', 'WTH_1998.wtb', 'WTH_1999.wtb', 'WTH_2000.wtb', 'WTH_2001.wtb', 'WTH_2002.wtb', 'WTH_2003.wtb', 'WTH_2004.wtb', 'WTH_2005.wtb', 'WTH_2006.wtb', 'WTH_2007.wtb', 'WTH_2008.wtb', 'WTH_2009.wtb', 'WTH_2010.wtb', 'WTH_2011.wtb', 'WTH_2012.wtb', 'WTH_2013.wtb', 'WTH_2014.wtb', 'WTH_2015.wtb', 'WTH_2016.wtb']\n"
     ]
    }
   ],
   "source": [
    "wtbFiles = []\n",
    "for i in files:\n",
    "    #print(i[-4:])\n",
    "    if i[-4:] == \".wtb\":\n",
    "        wtbFiles.append(i)\n",
    "print (wtbFiles)"
   ]
  },
  {
   "cell_type": "code",
   "execution_count": 23,
   "metadata": {
    "collapsed": false
   },
   "outputs": [
    {
     "name": "stdout",
     "output_type": "stream",
     "text": [
      "WTH_1977.wtb\n",
      "WTH_1978.wtb\n",
      "WTH_1979.wtb\n",
      "WTH_1980.wtb\n",
      "WTH_1981.wtb\n",
      "WTH_1982.wtb\n",
      "WTH_1983.wtb\n",
      "WTH_1984.wtb\n",
      "WTH_1985.wtb\n",
      "WTH_1986.wtb\n",
      "WTH_1987.wtb\n",
      "WTH_1988.wtb\n",
      "WTH_1989.wtb\n",
      "WTH_1990.wtb\n",
      "WTH_1991.wtb\n",
      "WTH_1992.wtb\n",
      "WTH_1993.wtb\n",
      "WTH_1994.wtb\n",
      "WTH_1995.wtb\n",
      "WTH_1996.wtb\n",
      "WTH_1997.wtb\n",
      "WTH_1998.wtb\n",
      "WTH_1999.wtb\n",
      "WTH_2000.wtb\n",
      "WTH_2001.wtb\n",
      "WTH_2002.wtb\n",
      "WTH_2003.wtb\n",
      "WTH_2004.wtb\n",
      "WTH_2005.wtb\n",
      "WTH_2006.wtb\n",
      "WTH_2007.wtb\n",
      "WTH_2008.wtb\n",
      "WTH_2009.wtb\n",
      "WTH_2010.wtb\n",
      "WTH_2011.wtb\n",
      "WTH_2012.wtb\n",
      "WTH_2013.wtb\n",
      "WTH_2014.wtb\n",
      "WTH_2015.wtb\n",
      "WTH_2016.wtb\n"
     ]
    }
   ],
   "source": [
    "for file in wtbFiles:\n",
    "    print(file)\n",
    "    ext = os.path.splitext(file)[-1].lower()\n",
    "    if ext == \".wtb\":\n",
    "        inputfilename = os.path.join (rootdir, file)\n",
    "        outputfilename = \"data\\\\gamedata_txt\\\\{}.txt\".format(file[:-4])\n",
    "        li = []\n",
    "        with open(inputfilename, \"rb\") as f:\n",
    "            with open (outputfilename, \"a\") as outputFile:\n",
    "                byte = f.read(16)\n",
    "                #print (\"Signature: \", byte)\n",
    "                byte = f.read (8)\n",
    "                while byte:\n",
    "                    #print (\"Match: \", byte)\n",
    "                    order = 0\n",
    "                    string = \"\"\n",
    "                    while order < 60:\n",
    "                        byte = f.read(1)\n",
    "                        i = int.from_bytes(byte, byteorder='big', signed=False)\n",
    "                        y = i//10 - 1\n",
    "                        x = i%10 - 1\n",
    "                        string = string + chr (x+97)\n",
    "                        string = string + chr (y+49)\n",
    "                        coor = (x, y)\n",
    "                        #print (order, \": \", coor)\n",
    "                        li.append (coor)\n",
    "                        order += 1\n",
    "                    #print (\"===========\")\n",
    "                    byte = f.read (8)\n",
    "                    outputFile.write (string)\n",
    "                    outputFile.write (\"\\n\")\n",
    "                    outputFile.write (\"\\n\")"
   ]
  },
  {
   "cell_type": "code",
   "execution_count": null,
   "metadata": {
    "collapsed": true
   },
   "outputs": [],
   "source": []
  }
 ],
 "metadata": {
  "kernelspec": {
   "display_name": "Python 3",
   "language": "python",
   "name": "python3"
  },
  "language_info": {
   "codemirror_mode": {
    "name": "ipython",
    "version": 3
   },
   "file_extension": ".py",
   "mimetype": "text/x-python",
   "name": "python",
   "nbconvert_exporter": "python",
   "pygments_lexer": "ipython3",
   "version": "3.5.2"
  }
 },
 "nbformat": 4,
 "nbformat_minor": 0
}
